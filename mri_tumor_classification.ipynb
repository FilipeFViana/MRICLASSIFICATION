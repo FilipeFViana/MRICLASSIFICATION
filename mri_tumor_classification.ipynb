{
 "cells": [
  {
   "cell_type": "code",
   "execution_count": 1,
   "metadata": {},
   "outputs": [
    {
     "name": "stderr",
     "output_type": "stream",
     "text": [
      "'pip' n�o � reconhecido como um comando interno\n",
      "ou externo, um programa oper�vel ou um arquivo em lotes.\n"
     ]
    }
   ],
   "source": [
    "!pip install torch torchvision matplotlib scikit-learn tqdm\n"
   ]
  },
  {
   "cell_type": "markdown",
   "metadata": {},
   "source": [
    "IMPORTANDO BIBLIOTECAS"
   ]
  },
  {
   "cell_type": "code",
   "execution_count": 5,
   "metadata": {},
   "outputs": [],
   "source": [
    "import os\n",
    "import random\n",
    "import torch\n",
    "import numpy as np\n",
    "import matplotlib.pyplot as plt\n",
    "from torchvision import datasets, models, transforms\n",
    "from torch.utils.data import DataLoader\n",
    "from torch.optim import Adam, SGD\n",
    "import torch.nn as nn\n",
    "from sklearn.metrics import confusion_matrix, ConfusionMatrixDisplay, accuracy_score, precision_score, recall_score, f1_score\n",
    "from tqdm import tqdm\n"
   ]
  },
  {
   "cell_type": "markdown",
   "metadata": {},
   "source": [
    "CONFIGURAÇÕES GERAIS"
   ]
  },
  {
   "cell_type": "code",
   "execution_count": 6,
   "metadata": {},
   "outputs": [],
   "source": [
    "# Configurações gerais\n",
    "device = torch.device('cuda' if torch.cuda.is_available() else 'cpu')\n",
    "torch.cuda.empty_cache()\n"
   ]
  },
  {
   "cell_type": "markdown",
   "metadata": {},
   "source": [
    "IMPORTANDO DATA SET"
   ]
  },
  {
   "cell_type": "code",
   "execution_count": 7,
   "metadata": {},
   "outputs": [],
   "source": [
    "# Caminhos do dataset\n",
    "dataset_root = './DataSet'\n",
    "training_dir = os.path.join(dataset_root, 'Training')\n",
    "validation_dir = os.path.join(dataset_root, 'Validation')\n",
    "testing_dir = os.path.join(dataset_root, 'Testing')\n"
   ]
  },
  {
   "cell_type": "markdown",
   "metadata": {},
   "source": [
    "TRANSFORMAÇÃO DAS IMAGENS, CARREGAMENTO DO DATASET E CRIAÇÃO DOS DATA LOADERS"
   ]
  },
  {
   "cell_type": "code",
   "execution_count": 8,
   "metadata": {},
   "outputs": [],
   "source": [
    "# Transformações para as imagens\n",
    "transform = {\n",
    "    'train': transforms.Compose([\n",
    "        transforms.Resize((299, 299)),\n",
    "        transforms.RandomHorizontalFlip(p=0.5),\n",
    "        transforms.RandomRotation(degrees=20),\n",
    "        transforms.ColorJitter(brightness=0.2, contrast=0.2),\n",
    "        transforms.ToTensor(),\n",
    "        transforms.Normalize(mean=[0.485, 0.456, 0.406], std=[0.229, 0.224, 0.225])\n",
    "    ]),\n",
    "    'val_test': transforms.Compose([\n",
    "        transforms.Resize((299, 299)),\n",
    "        transforms.ToTensor(),\n",
    "        transforms.Normalize(mean=[0.485, 0.456, 0.406], std=[0.229, 0.224, 0.225])\n",
    "    ])\n",
    "}\n",
    "\n",
    "# Carregar datasets\n",
    "datasets_dict = {\n",
    "    'train': datasets.ImageFolder(root=training_dir, transform=transform['train']),\n",
    "    'val': datasets.ImageFolder(root=validation_dir, transform=transform['val_test']),\n",
    "    'test': datasets.ImageFolder(root=testing_dir, transform=transform['val_test'])\n",
    "}\n",
    "\n",
    "# Criar DataLoaders\n",
    "def create_dataloaders(batch_size):\n",
    "    return {\n",
    "        'train': DataLoader(datasets_dict['train'], batch_size=batch_size, shuffle=True),\n",
    "        'val': DataLoader(datasets_dict['val'], batch_size=batch_size, shuffle=False),\n",
    "        'test': DataLoader(datasets_dict['test'], batch_size=batch_size, shuffle=False)\n",
    "    }\n"
   ]
  },
  {
   "cell_type": "markdown",
   "metadata": {},
   "source": [
    "CONFIGURAÇÃO DOS MODELOS"
   ]
  },
  {
   "cell_type": "code",
   "execution_count": 17,
   "metadata": {},
   "outputs": [],
   "source": [
    "# Configurar modelos\n",
    "num_classes = len(datasets_dict['train'].classes)\n",
    "\n",
    "resnet_model = models.resnet18(weights=models.ResNet18_Weights.DEFAULT)\n",
    "resnet_model.fc = nn.Linear(resnet_model.fc.in_features, num_classes)\n",
    "\n",
    "# DenseNet121\n",
    "densenet_model = models.densenet121(weights=models.DenseNet121_Weights.DEFAULT)\n",
    "densenet_model.classifier = nn.Linear(densenet_model.classifier.in_features, num_classes)\n",
    "\n",
    "# Inception v3\n",
    "inception_model = models.inception_v3(weights=models.Inception_V3_Weights.DEFAULT, aux_logits=True)\n",
    "inception_model.fc = nn.Linear(inception_model.fc.in_features, num_classes)"
   ]
  },
  {
   "cell_type": "markdown",
   "metadata": {},
   "source": [
    "FUNÇÃO DE TREINAMENTO"
   ]
  },
  {
   "cell_type": "code",
   "execution_count": 10,
   "metadata": {},
   "outputs": [],
   "source": [
    "# Função de treinamento\n",
    "def train_model(model, train_loader, val_loader, criterion, optimizer, epochs=10, model_name=\"model\"):\n",
    "    model = model.to(device)\n",
    "\n",
    "    train_losses = []\n",
    "    val_losses = []\n",
    "    train_accuracies = []\n",
    "    val_accuracies = []\n",
    "\n",
    "    for epoch in range(epochs):\n",
    "        model.train()\n",
    "        running_loss = 0.0\n",
    "        correct = 0\n",
    "        total = 0\n",
    "\n",
    "        for inputs, labels in tqdm(train_loader, desc=f\"Treinando - Epoch {epoch+1}/{epochs}\"):\n",
    "            inputs, labels = inputs.to(device), labels.to(device)\n",
    "\n",
    "            optimizer.zero_grad()\n",
    "            outputs = model(inputs)\n",
    "\n",
    "            if isinstance(outputs, tuple):  # Para Inception v3\n",
    "                main_output, aux_output = outputs\n",
    "                loss = criterion(main_output, labels) + 0.4 * criterion(aux_output, labels)\n",
    "            else:\n",
    "                loss = criterion(outputs, labels)\n",
    "\n",
    "            loss.backward()\n",
    "            optimizer.step()\n",
    "\n",
    "            running_loss += loss.item()\n",
    "            _, preds = torch.max(outputs[0] if isinstance(outputs, tuple) else outputs, 1)\n",
    "            correct += (preds == labels).sum().item()\n",
    "            total += labels.size(0)\n",
    "\n",
    "        train_accuracy = 100 * correct / total\n",
    "        train_losses.append(running_loss / len(train_loader))\n",
    "        train_accuracies.append(train_accuracy)\n",
    "\n",
    "        model.eval()\n",
    "        val_loss = 0.0\n",
    "        correct = 0\n",
    "        total = 0\n",
    "        with torch.no_grad():\n",
    "            for inputs, labels in tqdm(val_loader, desc=\"Validando\"):\n",
    "                inputs, labels = inputs.to(device), labels.to(device)\n",
    "                outputs = model(inputs)\n",
    "                if isinstance(outputs, tuple):\n",
    "                    main_output = outputs[0]\n",
    "                    loss = criterion(main_output, labels)\n",
    "                else:\n",
    "                    loss = criterion(outputs, labels)\n",
    "                val_loss += loss.item()\n",
    "                _, preds = torch.max(main_output if isinstance(outputs, tuple) else outputs, 1)\n",
    "                correct += (preds == labels).sum().item()\n",
    "                total += labels.size(0)\n",
    "\n",
    "        val_accuracy = 100 * correct / total\n",
    "        val_losses.append(val_loss / len(val_loader))\n",
    "        val_accuracies.append(val_accuracy)\n",
    "\n",
    "        print(f\"Epoch {epoch+1}/{epochs}, Loss: {running_loss/len(train_loader):.4f}, Train Accuracy: {train_accuracy:.2f}%\")\n",
    "        print(f\"Validation Loss: {val_loss/len(val_loader):.4f}, Validation Accuracy: {val_accuracy:.2f}%\\n\")\n",
    "\n",
    "    torch.save({\n",
    "        'train_losses': train_losses,\n",
    "        'val_losses': val_losses,\n",
    "        'train_accuracies': train_accuracies,\n",
    "        'val_accuracies': val_accuracies\n",
    "    }, f\"{model_name}_metrics.pth\")\n",
    "\n",
    "    return model"
   ]
  },
  {
   "cell_type": "markdown",
   "metadata": {},
   "source": [
    "FUNÇÃO DE AVALIAÇÃO E PLOTAGEM DA MATRIZ DE CONFUSÃO"
   ]
  },
  {
   "cell_type": "code",
   "execution_count": 11,
   "metadata": {},
   "outputs": [],
   "source": [
    "# Função de avaliação e matriz de confusão\n",
    "def evaluate_model(model, test_loader, model_name=\"model\"):\n",
    "    model.eval()\n",
    "    all_preds = []\n",
    "    all_labels = []\n",
    "\n",
    "    with torch.no_grad():\n",
    "        for inputs, labels in test_loader:\n",
    "            inputs, labels = inputs.to(device), labels.to(device)\n",
    "            outputs = model(inputs)\n",
    "            if isinstance(outputs, tuple):\n",
    "                outputs = outputs[0]  # Usar apenas a saída principal\n",
    "            _, preds = torch.max(outputs, 1)\n",
    "            all_preds.extend(preds.cpu().numpy())\n",
    "            all_labels.extend(labels.cpu().numpy())\n",
    "\n",
    "    acc = accuracy_score(all_labels, all_preds)\n",
    "    prec = precision_score(all_labels, all_preds, average='weighted')\n",
    "    rec = recall_score(all_labels, all_preds, average='weighted')\n",
    "    f1 = f1_score(all_labels, all_preds, average='weighted')\n",
    "\n",
    "    print(f\"Accuracy: {acc:.4f}\")\n",
    "    print(f\"Precision: {prec:.4f}\")\n",
    "    print(f\"Recall: {rec:.4f}\")\n",
    "    print(f\"F1 Score: {f1:.4f}\")\n",
    "\n",
    "    cm = confusion_matrix(all_labels, all_preds)\n",
    "    disp = ConfusionMatrixDisplay(confusion_matrix=cm, display_labels=datasets_dict['train'].classes)\n",
    "    disp.plot(cmap=plt.cm.Blues)\n",
    "    plt.title(f\"Matriz de Confusão - {model_name}\")\n",
    "    plt.savefig(f\"{model_name}_confusion_matrix.png\")\n",
    "    plt.show()"
   ]
  },
  {
   "cell_type": "code",
   "execution_count": 12,
   "metadata": {},
   "outputs": [],
   "source": [
    "# Função para otimização de hiperparâmetros\n",
    "def hyperparameter_optimization(model, param_grid, epochs=5):\n",
    "    best_model = None\n",
    "    best_accuracy = 0.0\n",
    "    best_params = {}\n",
    "\n",
    "    for trial in range(param_grid['trials']):\n",
    "        lr = random.choice(param_grid['lr'])\n",
    "        batch_size = random.choice(param_grid['batch_size'])\n",
    "        optimizer_name = random.choice(param_grid['optimizer'])\n",
    "\n",
    "        print(f\"Teste {trial+1}: lr={lr}, batch_size={batch_size}, optimizer={optimizer_name}\")\n",
    "\n",
    "        dataloaders = create_dataloaders(batch_size)\n",
    "\n",
    "        optimizer = Adam(model.parameters(), lr=lr) if optimizer_name == 'Adam' else SGD(model.parameters(), lr=lr, momentum=0.9)\n",
    "\n",
    "        trained_model = train_model(model, dataloaders['train'], dataloaders['val'], nn.CrossEntropyLoss(), optimizer, epochs=epochs)\n",
    "\n",
    "        model.eval()\n",
    "        correct = 0\n",
    "        total = 0\n",
    "        with torch.no_grad():\n",
    "            for inputs, labels in dataloaders['val']:\n",
    "                inputs, labels = inputs.to(device), labels.to(device)\n",
    "                outputs = model(inputs)\n",
    "                if isinstance(outputs, tuple):\n",
    "                    outputs = outputs[0]\n",
    "                _, preds = torch.max(outputs, 1)\n",
    "                correct += (preds == labels).sum().item()\n",
    "                total += labels.size(0)\n",
    "\n",
    "        accuracy = 100 * correct / total\n",
    "        print(f\"Acurácia de Validação: {accuracy:.2f}%\")\n",
    "\n",
    "        if accuracy > best_accuracy:\n",
    "            best_accuracy = accuracy\n",
    "            best_model = trained_model\n",
    "            best_params = {'lr': lr, 'batch_size': batch_size, 'optimizer': optimizer_name}\n",
    "\n",
    "    print(f\"\\nMelhores Hiperparâmetros: {best_params}, Melhor Acurácia: {best_accuracy:.2f}%\")\n",
    "    return best_model, best_params\n",
    "\n",
    "# Grid de hiperparâmetros\n",
    "param_grid = {\n",
    "    'lr': [0.0001, 0.001, 0.01],\n",
    "    'batch_size': [16, 32, 64],\n",
    "    'optimizer': ['Adam', 'SGD'],\n",
    "    'trials': 2\n",
    "}"
   ]
  },
  {
   "cell_type": "code",
   "execution_count": 21,
   "metadata": {},
   "outputs": [],
   "source": [
    "\n",
    "# Treinar com parâmetros fixos\n",
    "def train_with_fixed_params(model, dataloaders, epochs=5, lr=0.001, batch_size=32, optimizer_name=\"Adam\", model_name=\"model\"):\n",
    "    optimizer = Adam(model.parameters(), lr=lr) if optimizer_name == 'Adam' else SGD(model.parameters(), lr=lr, momentum=0.9)\n",
    "    criterion = nn.CrossEntropyLoss()\n",
    "    return train_model(model, dataloaders['train'], dataloaders['val'], criterion, optimizer, epochs=epochs, model_name=model_name)\n"
   ]
  },
  {
   "cell_type": "markdown",
   "metadata": {},
   "source": [
    "TREINO E AVALIAÇÃO DO MODELO RESNET"
   ]
  },
  {
   "cell_type": "code",
   "execution_count": 18,
   "metadata": {},
   "outputs": [
    {
     "name": "stdout",
     "output_type": "stream",
     "text": [
      "--- ResNet ---\n",
      "Treinamento com Otimização de Hiperparâmetros\n",
      "Teste 1: lr=0.01, batch_size=32, optimizer=SGD\n"
     ]
    },
    {
     "name": "stderr",
     "output_type": "stream",
     "text": [
      "Treinando - Epoch 1/5: 100%|██████████| 90/90 [07:13<00:00,  4.81s/it]\n",
      "Validando: 100%|██████████| 28/28 [00:44<00:00,  1.60s/it]\n"
     ]
    },
    {
     "name": "stdout",
     "output_type": "stream",
     "text": [
      "Epoch 1/5, Loss: 0.1008, Train Accuracy: 96.86%\n",
      "Validation Loss: 0.0736, Validation Accuracy: 97.00%\n",
      "\n"
     ]
    },
    {
     "name": "stderr",
     "output_type": "stream",
     "text": [
      "Treinando - Epoch 2/5: 100%|██████████| 90/90 [06:50<00:00,  4.56s/it]\n",
      "Validando: 100%|██████████| 28/28 [00:42<00:00,  1.51s/it]\n"
     ]
    },
    {
     "name": "stdout",
     "output_type": "stream",
     "text": [
      "Epoch 2/5, Loss: 0.0832, Train Accuracy: 97.07%\n",
      "Validation Loss: 0.0319, Validation Accuracy: 98.85%\n",
      "\n"
     ]
    },
    {
     "name": "stderr",
     "output_type": "stream",
     "text": [
      "Treinando - Epoch 3/5: 100%|██████████| 90/90 [06:41<00:00,  4.47s/it]\n",
      "Validando: 100%|██████████| 28/28 [00:45<00:00,  1.62s/it]\n"
     ]
    },
    {
     "name": "stdout",
     "output_type": "stream",
     "text": [
      "Epoch 3/5, Loss: 0.0667, Train Accuracy: 97.35%\n",
      "Validation Loss: 0.0226, Validation Accuracy: 99.08%\n",
      "\n"
     ]
    },
    {
     "name": "stderr",
     "output_type": "stream",
     "text": [
      "Treinando - Epoch 4/5: 100%|██████████| 90/90 [06:48<00:00,  4.54s/it]\n",
      "Validando: 100%|██████████| 28/28 [00:44<00:00,  1.59s/it]\n"
     ]
    },
    {
     "name": "stdout",
     "output_type": "stream",
     "text": [
      "Epoch 4/5, Loss: 0.0642, Train Accuracy: 97.74%\n",
      "Validation Loss: 0.0293, Validation Accuracy: 99.42%\n",
      "\n"
     ]
    },
    {
     "name": "stderr",
     "output_type": "stream",
     "text": [
      "Treinando - Epoch 5/5: 100%|██████████| 90/90 [06:48<00:00,  4.54s/it]\n",
      "Validando: 100%|██████████| 28/28 [00:44<00:00,  1.59s/it]\n"
     ]
    },
    {
     "name": "stdout",
     "output_type": "stream",
     "text": [
      "Epoch 5/5, Loss: 0.0501, Train Accuracy: 97.98%\n",
      "Validation Loss: 0.0152, Validation Accuracy: 99.65%\n",
      "\n",
      "Acurácia de Validação: 99.65%\n",
      "Teste 2: lr=0.001, batch_size=64, optimizer=Adam\n"
     ]
    },
    {
     "name": "stderr",
     "output_type": "stream",
     "text": [
      "Treinando - Epoch 1/5: 100%|██████████| 45/45 [06:58<00:00,  9.29s/it]\n",
      "Validando: 100%|██████████| 14/14 [00:45<00:00,  3.27s/it]\n"
     ]
    },
    {
     "name": "stdout",
     "output_type": "stream",
     "text": [
      "Epoch 1/5, Loss: 0.1696, Train Accuracy: 94.46%\n",
      "Validation Loss: 0.4599, Validation Accuracy: 86.16%\n",
      "\n"
     ]
    },
    {
     "name": "stderr",
     "output_type": "stream",
     "text": [
      "Treinando - Epoch 2/5: 100%|██████████| 45/45 [07:10<00:00,  9.56s/it]\n",
      "Validando: 100%|██████████| 14/14 [00:45<00:00,  3.24s/it]\n"
     ]
    },
    {
     "name": "stdout",
     "output_type": "stream",
     "text": [
      "Epoch 2/5, Loss: 0.1201, Train Accuracy: 96.66%\n",
      "Validation Loss: 0.0844, Validation Accuracy: 96.54%\n",
      "\n"
     ]
    },
    {
     "name": "stderr",
     "output_type": "stream",
     "text": [
      "Treinando - Epoch 3/5: 100%|██████████| 45/45 [06:59<00:00,  9.32s/it]\n",
      "Validando: 100%|██████████| 14/14 [00:45<00:00,  3.25s/it]\n"
     ]
    },
    {
     "name": "stdout",
     "output_type": "stream",
     "text": [
      "Epoch 3/5, Loss: 0.0759, Train Accuracy: 97.39%\n",
      "Validation Loss: 0.1133, Validation Accuracy: 95.04%\n",
      "\n"
     ]
    },
    {
     "name": "stderr",
     "output_type": "stream",
     "text": [
      "Treinando - Epoch 4/5: 100%|██████████| 45/45 [06:58<00:00,  9.29s/it]\n",
      "Validando: 100%|██████████| 14/14 [00:45<00:00,  3.22s/it]\n"
     ]
    },
    {
     "name": "stdout",
     "output_type": "stream",
     "text": [
      "Epoch 4/5, Loss: 0.0621, Train Accuracy: 97.28%\n",
      "Validation Loss: 0.1221, Validation Accuracy: 95.50%\n",
      "\n"
     ]
    },
    {
     "name": "stderr",
     "output_type": "stream",
     "text": [
      "Treinando - Epoch 5/5: 100%|██████████| 45/45 [07:42<00:00, 10.27s/it]\n",
      "Validando: 100%|██████████| 14/14 [00:46<00:00,  3.33s/it]\n"
     ]
    },
    {
     "name": "stdout",
     "output_type": "stream",
     "text": [
      "Epoch 5/5, Loss: 0.0742, Train Accuracy: 97.18%\n",
      "Validation Loss: 0.0700, Validation Accuracy: 97.92%\n",
      "\n",
      "Acurácia de Validação: 97.92%\n",
      "\n",
      "Melhores Hiperparâmetros: {'lr': 0.01, 'batch_size': 32, 'optimizer': 'SGD'}, Melhor Acurácia: 99.65%\n",
      "Accuracy: 0.7741\n",
      "Precision: 0.8382\n",
      "Recall: 0.7741\n",
      "F1 Score: 0.7369\n"
     ]
    },
    {
     "data": {
      "image/png": "[encoded data removed]",
      "text/plain": [
       "<Figure size 640x480 with 2 Axes>"
      ]
     },
     "metadata": {},
     "output_type": "display_data"
    },
    {
     "name": "stdout",
     "output_type": "stream",
     "text": [
      "Treinamento com Parâmetros Fixos\n"
     ]
    },
    {
     "name": "stderr",
     "output_type": "stream",
     "text": [
      "Treinando - Epoch 1/5: 100%|██████████| 90/90 [08:22<00:00,  5.59s/it]\n",
      "Validando: 100%|██████████| 28/28 [00:54<00:00,  1.96s/it]\n"
     ]
    },
    {
     "name": "stdout",
     "output_type": "stream",
     "text": [
      "Epoch 1/5, Loss: 0.1749, Train Accuracy: 94.56%\n",
      "Validation Loss: 0.0588, Validation Accuracy: 98.39%\n",
      "\n"
     ]
    },
    {
     "name": "stderr",
     "output_type": "stream",
     "text": [
      "Treinando - Epoch 2/5: 100%|██████████| 90/90 [07:52<00:00,  5.25s/it]\n",
      "Validando: 100%|██████████| 28/28 [00:45<00:00,  1.63s/it]\n"
     ]
    },
    {
     "name": "stdout",
     "output_type": "stream",
     "text": [
      "Epoch 2/5, Loss: 0.1480, Train Accuracy: 95.26%\n",
      "Validation Loss: 0.5208, Validation Accuracy: 84.66%\n",
      "\n"
     ]
    },
    {
     "name": "stderr",
     "output_type": "stream",
     "text": [
      "Treinando - Epoch 3/5: 100%|██████████| 90/90 [07:51<00:00,  5.24s/it]\n",
      "Validando: 100%|██████████| 28/28 [00:50<00:00,  1.81s/it]\n"
     ]
    },
    {
     "name": "stdout",
     "output_type": "stream",
     "text": [
      "Epoch 3/5, Loss: 0.0981, Train Accuracy: 96.38%\n",
      "Validation Loss: 0.0884, Validation Accuracy: 96.89%\n",
      "\n"
     ]
    },
    {
     "name": "stderr",
     "output_type": "stream",
     "text": [
      "Treinando - Epoch 4/5: 100%|██████████| 90/90 [07:31<00:00,  5.01s/it]\n",
      "Validando: 100%|██████████| 28/28 [00:47<00:00,  1.71s/it]\n"
     ]
    },
    {
     "name": "stdout",
     "output_type": "stream",
     "text": [
      "Epoch 4/5, Loss: 0.0943, Train Accuracy: 96.62%\n",
      "Validation Loss: 0.0704, Validation Accuracy: 97.12%\n",
      "\n"
     ]
    },
    {
     "name": "stderr",
     "output_type": "stream",
     "text": [
      "Treinando - Epoch 5/5: 100%|██████████| 90/90 [07:02<00:00,  4.69s/it]\n",
      "Validando: 100%|██████████| 28/28 [00:45<00:00,  1.64s/it]\n"
     ]
    },
    {
     "name": "stdout",
     "output_type": "stream",
     "text": [
      "Epoch 5/5, Loss: 0.0844, Train Accuracy: 96.97%\n",
      "Validation Loss: 0.4129, Validation Accuracy: 86.51%\n",
      "\n",
      "Accuracy: 0.7462\n",
      "Precision: 0.7451\n",
      "Recall: 0.7462\n",
      "F1 Score: 0.7310\n"
     ]
    },
    {
     "data": {
      "image/png": "[encoded data removed]",
      "text/plain": [
       "<Figure size 640x480 with 2 Axes>"
      ]
     },
     "metadata": {},
     "output_type": "display_data"
    }
   ],
   "source": [
    "# ResNet\n",
    "print(\"--- ResNet ---\")\n",
    "print(\"Treinamento com Otimização de Hiperparâmetros\")\n",
    "best_resnet, resnet_params = hyperparameter_optimization(resnet_model, param_grid, epochs=5)\n",
    "evaluate_model(best_resnet, create_dataloaders(32)['test'], model_name=\"ResNet18\")\n",
    "\n",
    "print(\"Treinamento com Parâmetros Fixos\")\n",
    "fixed_dataloaders = create_dataloaders(32)\n",
    "trained_resnet_fixed = train_with_fixed_params(resnet_model, fixed_dataloaders, epochs=5, lr=0.001, batch_size=32, optimizer_name=\"Adam\", model_name=\"ResNet18_Fixed\")\n",
    "evaluate_model(trained_resnet_fixed, fixed_dataloaders['test'], model_name=\"ResNet18_Fixed\")\n"
   ]
  },
  {
   "cell_type": "code",
   "execution_count": 19,
   "metadata": {},
   "outputs": [],
   "source": [
    "torch.cuda.empty_cache()"
   ]
  },
  {
   "cell_type": "markdown",
   "metadata": {},
   "source": [
    "TREINO E AVALIAÇÃO DO MODELO INCEPTION V3"
   ]
  },
  {
   "cell_type": "code",
   "execution_count": 20,
   "metadata": {},
   "outputs": [
    {
     "name": "stdout",
     "output_type": "stream",
     "text": [
      "--- Inception ---\n",
      "Treinamento com Parâmetros Fixos\n"
     ]
    },
    {
     "name": "stderr",
     "output_type": "stream",
     "text": [
      "Treinando - Epoch 1/5: 100%|██████████| 90/90 [17:19<00:00, 11.55s/it]\n",
      "Validando: 100%|██████████| 28/28 [01:34<00:00,  3.37s/it]\n"
     ]
    },
    {
     "name": "stdout",
     "output_type": "stream",
     "text": [
      "Epoch 1/5, Loss: 0.7474, Train Accuracy: 83.34%\n",
      "Validation Loss: 1.1105, Validation Accuracy: 61.82%\n",
      "\n"
     ]
    },
    {
     "name": "stderr",
     "output_type": "stream",
     "text": [
      "Treinando - Epoch 2/5: 100%|██████████| 90/90 [14:46<00:00,  9.84s/it]\n",
      "Validando: 100%|██████████| 28/28 [01:32<00:00,  3.32s/it]\n"
     ]
    },
    {
     "name": "stdout",
     "output_type": "stream",
     "text": [
      "Epoch 2/5, Loss: 0.3427, Train Accuracy: 90.42%\n",
      "Validation Loss: 0.1930, Validation Accuracy: 93.43%\n",
      "\n"
     ]
    },
    {
     "name": "stderr",
     "output_type": "stream",
     "text": [
      "Treinando - Epoch 3/5: 100%|██████████| 90/90 [14:47<00:00,  9.87s/it]\n",
      "Validando: 100%|██████████| 28/28 [01:33<00:00,  3.33s/it]\n"
     ]
    },
    {
     "name": "stdout",
     "output_type": "stream",
     "text": [
      "Epoch 3/5, Loss: 0.3040, Train Accuracy: 92.65%\n",
      "Validation Loss: 0.4834, Validation Accuracy: 83.28%\n",
      "\n"
     ]
    },
    {
     "name": "stderr",
     "output_type": "stream",
     "text": [
      "Treinando - Epoch 4/5: 100%|██████████| 90/90 [14:57<00:00,  9.97s/it]\n",
      "Validando: 100%|██████████| 28/28 [01:33<00:00,  3.34s/it]\n"
     ]
    },
    {
     "name": "stdout",
     "output_type": "stream",
     "text": [
      "Epoch 4/5, Loss: 0.2864, Train Accuracy: 92.86%\n",
      "Validation Loss: 0.5277, Validation Accuracy: 81.89%\n",
      "\n"
     ]
    },
    {
     "name": "stderr",
     "output_type": "stream",
     "text": [
      "Treinando - Epoch 5/5: 100%|██████████| 90/90 [14:57<00:00,  9.97s/it]\n",
      "Validando: 100%|██████████| 28/28 [01:33<00:00,  3.34s/it]\n"
     ]
    },
    {
     "name": "stdout",
     "output_type": "stream",
     "text": [
      "Epoch 5/5, Loss: 0.2151, Train Accuracy: 95.12%\n",
      "Validation Loss: 0.0847, Validation Accuracy: 98.15%\n",
      "\n",
      "Accuracy: 0.7411\n",
      "Precision: 0.7975\n",
      "Recall: 0.7411\n",
      "F1 Score: 0.7133\n"
     ]
    },
    {
     "data": {
      "image/png": "[encoded data removed]",
      "text/plain": [
       "<Figure size 640x480 with 2 Axes>"
      ]
     },
     "metadata": {},
     "output_type": "display_data"
    },
    {
     "name": "stdout",
     "output_type": "stream",
     "text": [
      "Treinamento com Otimização de Hiperparâmetros\n",
      "Teste 1: lr=0.001, batch_size=32, optimizer=Adam\n"
     ]
    },
    {
     "name": "stderr",
     "output_type": "stream",
     "text": [
      "Treinando - Epoch 1/5: 100%|██████████| 90/90 [14:35<00:00,  9.72s/it]\n",
      "Validando: 100%|██████████| 28/28 [01:31<00:00,  3.28s/it]\n"
     ]
    },
    {
     "name": "stdout",
     "output_type": "stream",
     "text": [
      "Epoch 1/5, Loss: 0.3953, Train Accuracy: 91.01%\n",
      "Validation Loss: 0.3245, Validation Accuracy: 91.12%\n",
      "\n"
     ]
    },
    {
     "name": "stderr",
     "output_type": "stream",
     "text": [
      "Treinando - Epoch 2/5: 100%|██████████| 90/90 [14:30<00:00,  9.67s/it]\n",
      "Validando: 100%|██████████| 28/28 [01:31<00:00,  3.28s/it]\n"
     ]
    },
    {
     "name": "stdout",
     "output_type": "stream",
     "text": [
      "Epoch 2/5, Loss: 0.2586, Train Accuracy: 94.25%\n",
      "Validation Loss: 0.2619, Validation Accuracy: 90.77%\n",
      "\n"
     ]
    },
    {
     "name": "stderr",
     "output_type": "stream",
     "text": [
      "Treinando - Epoch 3/5: 100%|██████████| 90/90 [14:25<00:00,  9.62s/it]\n",
      "Validando: 100%|██████████| 28/28 [01:30<00:00,  3.23s/it]\n"
     ]
    },
    {
     "name": "stdout",
     "output_type": "stream",
     "text": [
      "Epoch 3/5, Loss: 0.2214, Train Accuracy: 95.02%\n",
      "Validation Loss: 0.0777, Validation Accuracy: 96.77%\n",
      "\n"
     ]
    },
    {
     "name": "stderr",
     "output_type": "stream",
     "text": [
      "Treinando - Epoch 4/5: 100%|██████████| 90/90 [14:35<00:00,  9.73s/it]\n",
      "Validando: 100%|██████████| 28/28 [01:32<00:00,  3.31s/it]\n"
     ]
    },
    {
     "name": "stdout",
     "output_type": "stream",
     "text": [
      "Epoch 4/5, Loss: 0.1798, Train Accuracy: 95.96%\n",
      "Validation Loss: 0.5692, Validation Accuracy: 89.73%\n",
      "\n"
     ]
    },
    {
     "name": "stderr",
     "output_type": "stream",
     "text": [
      "Treinando - Epoch 5/5: 100%|██████████| 90/90 [14:26<00:00,  9.62s/it]\n",
      "Validando: 100%|██████████| 28/28 [01:32<00:00,  3.29s/it]\n"
     ]
    },
    {
     "name": "stdout",
     "output_type": "stream",
     "text": [
      "Epoch 5/5, Loss: 0.1748, Train Accuracy: 95.96%\n",
      "Validation Loss: 0.0434, Validation Accuracy: 98.62%\n",
      "\n",
      "Acurácia de Validação: 98.62%\n",
      "Teste 2: lr=0.001, batch_size=16, optimizer=Adam\n"
     ]
    },
    {
     "name": "stderr",
     "output_type": "stream",
     "text": [
      "Treinando - Epoch 1/5: 100%|██████████| 180/180 [13:43<00:00,  4.58s/it]\n",
      "Validando: 100%|██████████| 55/55 [01:27<00:00,  1.60s/it]\n"
     ]
    },
    {
     "name": "stdout",
     "output_type": "stream",
     "text": [
      "Epoch 1/5, Loss: 0.3165, Train Accuracy: 92.79%\n",
      "Validation Loss: 0.0585, Validation Accuracy: 98.50%\n",
      "\n"
     ]
    },
    {
     "name": "stderr",
     "output_type": "stream",
     "text": [
      "Treinando - Epoch 2/5: 100%|██████████| 180/180 [13:45<00:00,  4.59s/it]\n",
      "Validando: 100%|██████████| 55/55 [01:28<00:00,  1.61s/it]\n"
     ]
    },
    {
     "name": "stdout",
     "output_type": "stream",
     "text": [
      "Epoch 2/5, Loss: 0.3097, Train Accuracy: 93.00%\n",
      "Validation Loss: 0.0961, Validation Accuracy: 97.23%\n",
      "\n"
     ]
    },
    {
     "name": "stderr",
     "output_type": "stream",
     "text": [
      "Treinando - Epoch 3/5: 100%|██████████| 180/180 [13:53<00:00,  4.63s/it]\n",
      "Validando: 100%|██████████| 55/55 [01:28<00:00,  1.62s/it]\n"
     ]
    },
    {
     "name": "stdout",
     "output_type": "stream",
     "text": [
      "Epoch 3/5, Loss: 0.2162, Train Accuracy: 94.81%\n",
      "Validation Loss: 0.1346, Validation Accuracy: 95.27%\n",
      "\n"
     ]
    },
    {
     "name": "stderr",
     "output_type": "stream",
     "text": [
      "Treinando - Epoch 4/5: 100%|██████████| 180/180 [13:51<00:00,  4.62s/it]\n",
      "Validando: 100%|██████████| 55/55 [01:28<00:00,  1.61s/it]\n"
     ]
    },
    {
     "name": "stdout",
     "output_type": "stream",
     "text": [
      "Epoch 4/5, Loss: 0.1810, Train Accuracy: 95.71%\n",
      "Validation Loss: 0.1212, Validation Accuracy: 95.27%\n",
      "\n"
     ]
    },
    {
     "name": "stderr",
     "output_type": "stream",
     "text": [
      "Treinando - Epoch 5/5: 100%|██████████| 180/180 [13:50<00:00,  4.61s/it]\n",
      "Validando: 100%|██████████| 55/55 [01:30<00:00,  1.64s/it]\n"
     ]
    },
    {
     "name": "stdout",
     "output_type": "stream",
     "text": [
      "Epoch 5/5, Loss: 0.2361, Train Accuracy: 94.95%\n",
      "Validation Loss: 0.1132, Validation Accuracy: 97.00%\n",
      "\n",
      "Acurácia de Validação: 97.00%\n",
      "\n",
      "Melhores Hiperparâmetros: {'lr': 0.001, 'batch_size': 32, 'optimizer': 'Adam'}, Melhor Acurácia: 98.62%\n",
      "Accuracy: 0.7386\n",
      "Precision: 0.7598\n",
      "Recall: 0.7386\n",
      "F1 Score: 0.7352\n"
     ]
    },
    {
     "data": {
      "image/png": "[encoded data removed]",
      "text/plain": [
       "<Figure size 640x480 with 2 Axes>"
      ]
     },
     "metadata": {},
     "output_type": "display_data"
    }
   ],
   "source": [
    "# Inception\n",
    "print(\"--- Inception ---\")\n",
    "print(\"Treinamento com Parâmetros Fixos\")\n",
    "trained_inception_fixed = train_with_fixed_params(inception_model, fixed_dataloaders, epochs=5, lr=0.001, batch_size=32, optimizer_name=\"Adam\", model_name=\"InceptionV3_Fixed\")\n",
    "evaluate_model(trained_inception_fixed, fixed_dataloaders['test'], model_name=\"InceptionV3_Fixed\")\n",
    "\n",
    "print(\"Treinamento com Otimização de Hiperparâmetros\")\n",
    "best_inception, inception_params = hyperparameter_optimization(inception_model, param_grid, epochs=5)\n",
    "evaluate_model(best_inception, create_dataloaders(32)['test'], model_name=\"InceptionV3\")"
   ]
  },
  {
   "cell_type": "code",
   "execution_count": 14,
   "metadata": {},
   "outputs": [],
   "source": [
    "torch.cuda.empty_cache()"
   ]
  },
  {
   "cell_type": "code",
   "execution_count": 26,
   "metadata": {},
   "outputs": [],
   "source": [
    "# Transformações específicas para DenseNet\n",
    "transform = transforms.Compose([\n",
    "    transforms.Resize((224, 224)),  # DenseNet usa imagens de 224x224\n",
    "    transforms.ToTensor(),\n",
    "    transforms.Normalize(mean=[0.485, 0.456, 0.406], std=[0.229, 0.224, 0.225])  # Normalização padrão\n",
    "])\n",
    "\n",
    "# Criar DataLoaders\n",
    "fixed_dataloaders = {\n",
    "    'train': DataLoader(datasets_dict['train'], batch_size=16, shuffle=True),\n",
    "    'val': DataLoader(datasets_dict['val'], batch_size=16, shuffle=False),\n",
    "    'test': DataLoader(datasets_dict['test'], batch_size=16, shuffle=False)\n",
    "}"
   ]
  },
  {
   "cell_type": "markdown",
   "metadata": {},
   "source": [
    "TREINO E AVALIAÇÃO DO MODELO DENSENET"
   ]
  },
  {
   "cell_type": "code",
   "execution_count": null,
   "metadata": {},
   "outputs": [
    {
     "name": "stdout",
     "output_type": "stream",
     "text": [
      "--- DenseNet ---\n",
      "Treinamento com Parâmetros Fixos\n"
     ]
    },
    {
     "name": "stderr",
     "output_type": "stream",
     "text": [
      "Treinando - Epoch 1/5: 100%|██████████| 180/180 [21:36<00:00,  7.20s/it]\n",
      "Validando: 100%|██████████| 55/55 [01:58<00:00,  2.15s/it]\n"
     ]
    },
    {
     "name": "stdout",
     "output_type": "stream",
     "text": [
      "Epoch 1/5, Loss: 0.5586, Train Accuracy: 79.51%\n",
      "Validation Loss: 0.2535, Validation Accuracy: 91.58%\n",
      "\n"
     ]
    },
    {
     "name": "stderr",
     "output_type": "stream",
     "text": [
      "Treinando - Epoch 2/5: 100%|██████████| 180/180 [23:28<00:00,  7.82s/it]\n",
      "Validando: 100%|██████████| 55/55 [02:48<00:00,  3.07s/it]\n"
     ]
    },
    {
     "name": "stdout",
     "output_type": "stream",
     "text": [
      "Epoch 2/5, Loss: 0.3486, Train Accuracy: 87.87%\n",
      "Validation Loss: 0.2600, Validation Accuracy: 89.85%\n",
      "\n"
     ]
    },
    {
     "name": "stderr",
     "output_type": "stream",
     "text": [
      "Treinando - Epoch 3/5: 100%|██████████| 180/180 [30:27<00:00, 10.15s/it]\n",
      "Validando: 100%|██████████| 55/55 [01:59<00:00,  2.18s/it]\n"
     ]
    },
    {
     "name": "stdout",
     "output_type": "stream",
     "text": [
      "Epoch 3/5, Loss: 0.3226, Train Accuracy: 88.43%\n",
      "Validation Loss: 0.2830, Validation Accuracy: 91.00%\n",
      "\n"
     ]
    },
    {
     "name": "stderr",
     "output_type": "stream",
     "text": [
      "Treinando - Epoch 4/5: 100%|██████████| 180/180 [20:56<00:00,  6.98s/it]\n",
      "Validando: 100%|██████████| 55/55 [02:23<00:00,  2.60s/it]\n"
     ]
    },
    {
     "name": "stdout",
     "output_type": "stream",
     "text": [
      "Epoch 4/5, Loss: 0.2942, Train Accuracy: 89.23%\n",
      "Validation Loss: 0.2605, Validation Accuracy: 90.31%\n",
      "\n"
     ]
    },
    {
     "name": "stderr",
     "output_type": "stream",
     "text": [
      "Treinando - Epoch 5/5: 100%|██████████| 180/180 [20:07<00:00,  6.71s/it]\n",
      "Validando: 100%|██████████| 55/55 [01:58<00:00,  2.16s/it]\n"
     ]
    },
    {
     "name": "stdout",
     "output_type": "stream",
     "text": [
      "Epoch 5/5, Loss: 0.2226, Train Accuracy: 91.78%\n",
      "Validation Loss: 0.1186, Validation Accuracy: 95.85%\n",
      "\n",
      "Accuracy: 0.7335\n",
      "Precision: 0.7923\n",
      "Recall: 0.7335\n",
      "F1 Score: 0.6904\n"
     ]
    },
    {
     "data": {
      "image/png": "[encoded data removed]",
      "text/plain": [
       "<Figure size 640x480 with 2 Axes>"
      ]
     },
     "metadata": {},
     "output_type": "display_data"
    },
    {
     "name": "stdout",
     "output_type": "stream",
     "text": [
      "Treinamento com Otimização de Hiperparâmetros\n",
      "Teste 1: lr=0.01, batch_size=16, optimizer=SGD\n"
     ]
    },
    {
     "name": "stderr",
     "output_type": "stream",
     "text": [
      "Treinando - Epoch 1/5: 100%|██████████| 180/180 [20:36<00:00,  6.87s/it]\n",
      "Validando: 100%|██████████| 55/55 [01:57<00:00,  2.13s/it]\n"
     ]
    },
    {
     "name": "stdout",
     "output_type": "stream",
     "text": [
      "Epoch 1/5, Loss: 0.1670, Train Accuracy: 94.22%\n",
      "Validation Loss: 0.0917, Validation Accuracy: 96.66%\n",
      "\n"
     ]
    },
    {
     "name": "stderr",
     "output_type": "stream",
     "text": [
      "Treinando - Epoch 2/5: 100%|██████████| 180/180 [20:24<00:00,  6.80s/it]\n",
      "Validando: 100%|██████████| 55/55 [01:56<00:00,  2.12s/it]\n"
     ]
    },
    {
     "name": "stdout",
     "output_type": "stream",
     "text": [
      "Epoch 2/5, Loss: 0.2122, Train Accuracy: 94.15%\n",
      "Validation Loss: 0.2044, Validation Accuracy: 93.89%\n",
      "\n"
     ]
    },
    {
     "name": "stderr",
     "output_type": "stream",
     "text": [
      "Treinando - Epoch 3/5: 100%|██████████| 180/180 [20:29<00:00,  6.83s/it]\n",
      "Validando: 100%|██████████| 55/55 [01:57<00:00,  2.14s/it]\n"
     ]
    },
    {
     "name": "stdout",
     "output_type": "stream",
     "text": [
      "Epoch 3/5, Loss: 0.2613, Train Accuracy: 93.21%\n",
      "Validation Loss: 0.0266, Validation Accuracy: 98.96%\n",
      "\n"
     ]
    },
    {
     "name": "stderr",
     "output_type": "stream",
     "text": [
      "Treinando - Epoch 4/5: 100%|██████████| 180/180 [20:31<00:00,  6.84s/it]\n",
      "Validando: 100%|██████████| 55/55 [02:01<00:00,  2.21s/it]\n"
     ]
    },
    {
     "name": "stdout",
     "output_type": "stream",
     "text": [
      "Epoch 4/5, Loss: 0.2223, Train Accuracy: 93.83%\n",
      "Validation Loss: 0.0195, Validation Accuracy: 99.31%\n",
      "\n"
     ]
    },
    {
     "name": "stderr",
     "output_type": "stream",
     "text": [
      "Treinando - Epoch 5/5: 100%|██████████| 180/180 [20:43<00:00,  6.91s/it]\n",
      "Validando: 100%|██████████| 55/55 [01:59<00:00,  2.17s/it]\n"
     ]
    },
    {
     "name": "stdout",
     "output_type": "stream",
     "text": [
      "Epoch 5/5, Loss: 0.1626, Train Accuracy: 95.78%\n",
      "Validation Loss: 0.0440, Validation Accuracy: 98.62%\n",
      "\n",
      "Acurácia de Validação: 98.62%\n",
      "Teste 2: lr=0.001, batch_size=64, optimizer=SGD\n"
     ]
    },
    {
     "name": "stderr",
     "output_type": "stream",
     "text": [
      "Treinando - Epoch 1/5:   0%|          | 0/45 [00:00<?, ?it/s]"
     ]
    }
   ],
   "source": [
    "# DenseNet\n",
    "print(\"--- DenseNet ---\")\n",
    "print(\"Treinamento com Parâmetros Fixos\")\n",
    "trained_densenet_fixed = train_with_fixed_params(densenet_model, fixed_dataloaders, epochs=5, lr=0.001, batch_size=16, optimizer_name=\"Adam\", model_name=\"DenseNet121_Fixed\")\n",
    "evaluate_model(trained_densenet_fixed, fixed_dataloaders['test'], model_name=\"DenseNet121_Fixed\")\n",
    "\n",
    "\n",
    "print(\"Treinamento com Otimização de Hiperparâmetros\")\n",
    "best_densenet, densenet_params = hyperparameter_optimization(densenet_model, param_grid, epochs=5)\n",
    "evaluate_model(best_densenet, create_dataloaders(32)['test'], model_name=\"DenseNet121\")\n"
   ]
  }
 ],
 "metadata": {
  "kernelspec": {
   "display_name": "Python 3",
   "language": "python",
   "name": "python3"
  },
  "language_info": {
   "codemirror_mode": {
    "name": "ipython",
    "version": 3
   },
   "file_extension": ".py",
   "mimetype": "text/x-python",
   "name": "python",
   "nbconvert_exporter": "python",
   "pygments_lexer": "ipython3",
   "version": "3.12.2"
  }
 },
 "nbformat": 4,
 "nbformat_minor": 2
}
